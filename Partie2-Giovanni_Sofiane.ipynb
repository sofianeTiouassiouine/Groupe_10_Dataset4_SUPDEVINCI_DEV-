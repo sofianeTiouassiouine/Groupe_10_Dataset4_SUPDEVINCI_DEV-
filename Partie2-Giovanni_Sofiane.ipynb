{
 "cells": [
  {
   "cell_type": "code",
   "execution_count": 2,
   "id": "cathedral-substance",
   "metadata": {},
   "outputs": [
    {
     "name": "stdout",
     "output_type": "stream",
     "text": [
      "3.1.1\n"
     ]
    },
    {
     "data": {
      "text/plain": [
       "DataFrame[_c0: int, Unnamed: 0: int, Unnamed: 0.1: int, Unnamed: 0.1.1: int, Unnamed: 0.1.1.1: int, Unnamed: 0.1.1.1.1: string, Unnamed: 0.1.1.1.1.1: string, Unnamed: 0.1.1.1.1.1.1: string, Unnamed: 0.1.1.1.1.1.1.1: string, Unnamed: 0.1.1.1.1.1.1.1.1: string, Unnamed: 0.1.1.1.1.1.1.1.1.1: string, index: string, Loan_ID: string, Gender: string, Married: string, Dependents: string, Education: string, Self_Employed: string, ApplicantIncome: int, CoapplicantIncome: double, LoanAmount: double, Loan_Amount_Term: double, Credit_History: double, Property_Area: string, Loan_Status: string]"
      ]
     },
     "execution_count": 2,
     "metadata": {},
     "output_type": "execute_result"
    }
   ],
   "source": [
    "import pandas as pd\n",
    "\n",
    "def get_spark_env(version, job_name, g, n):\n",
    "    if version in [\"3.1\"]:\n",
    "        from pyspark.sql import SparkSession\n",
    "        spark = SparkSession.builder.master(\"local[*]\").config('spark.executor.memoryOverhead.config', n).config('spark.driver.memory', g).appName(job_name).getOrCreate()\n",
    "        return spark\n",
    "    elif version in [\"1.6\", \"2.4\"]:\n",
    "        return None, None\n",
    "\n",
    "def Print_DF(DF):\n",
    "    return pd.DataFrame(DF.show(),columns=DF.columns)\n",
    "\n",
    "def Print_DF_Rows(DF,NbRows):\n",
    "    return pd.DataFrame(DF.take(NbRows),columns=DF.columns)\n",
    "\n",
    "job_name = 'Formation'\n",
    "spark = get_spark_env(\"3.1\", job_name, '4g', '3')\n",
    "print (spark.version)\n",
    "tab = spark.read.csv(\"Dataset_4_loan.csv\", inferSchema = 'true', header=True, sep=\"|\")\n",
    "tab"
   ]
  },
  {
   "cell_type": "code",
   "execution_count": 9,
   "id": "regional-final",
   "metadata": {},
   "outputs": [
    {
     "name": "stdout",
     "output_type": "stream",
     "text": [
      "+-------+------------------+------------------+------------------+------------------+------------------+--------------------+--------------------+----------------------+------------------------+--------------------------+----------------------------+------------------+--------+-----------+-------+------------------+------------+-------------+-----------------+------------------+------------------+-----------------+------------------+-------------+-----------+\n",
      "|summary|               _c0|        Unnamed: 0|      Unnamed: 0.1|    Unnamed: 0.1.1|  Unnamed: 0.1.1.1|  Unnamed: 0.1.1.1.1|Unnamed: 0.1.1.1.1.1|Unnamed: 0.1.1.1.1.1.1|Unnamed: 0.1.1.1.1.1.1.1|Unnamed: 0.1.1.1.1.1.1.1.1|Unnamed: 0.1.1.1.1.1.1.1.1.1|             index| Loan_ID|     Gender|Married|        Dependents|   Education|Self_Employed|  ApplicantIncome| CoapplicantIncome|        LoanAmount| Loan_Amount_Term|    Credit_History|Property_Area|Loan_Status|\n",
      "+-------+------------------+------------------+------------------+------------------+------------------+--------------------+--------------------+----------------------+------------------------+--------------------------+----------------------------+------------------+--------+-----------+-------+------------------+------------+-------------+-----------------+------------------+------------------+-----------------+------------------+-------------+-----------+\n",
      "|  count|               981|               981|               981|               981|               981|                 981|                 981|                   981|                     981|                       981|                         969|               968|     981|        960|    930|               906|         981|          926|              981|               981|               954|              961|               902|          981|        614|\n",
      "|   mean|             490.0|             490.0|             490.0|             490.0|             490.0|   491.3533834586466|  8.93997929545977E8|   7.374636114524336E8|     9.228502432591362E8|       9.712514400104895E8|          486.31198102016606| 261.5172839506173|  -400.0|       null|   null|0.5567765567765568|        null|         null|5179.795107033639|1601.9163302636496|142.51153039832286|342.2018730489074| 0.835920177383592|         null|       null|\n",
      "| stddev|283.33460784027073|283.33460784027073|283.33460784027073|283.33460784027073|283.33460784027073|  284.03085690471005| 6.994535467182745E9|   6.361689244171854E9|     7.104482675290621E9|       7.285390802286496E9|          284.10550746043054|166.52326518164023|     0.0|       null|   null|0.7865851810694792|        null|         null| 5695.10453253911|2718.7728063240797|  77.4217431328085|65.10060192876894|0.3705534545186221|         null|       null|\n",
      "|    min|                 0|                 0|                 0|                 0|                 0|                   0|                   0|                     0|                       0|                         0|                         0.0|                 0|    -400|     Female|     No|                 0|    Graduate|           No|                0|               0.0|               9.0|              6.0|               0.0|        Rural|          N|\n",
      "|    25%|               245|               245|               245|               245|               245|               246.0|               251.0|                 254.0|                   248.0|                     238.0|                       237.0|             121.0|  -400.0|       null|   null|               0.0|        null|         null|             2875|               0.0|             100.0|            360.0|               1.0|         null|       null|\n",
      "|    50%|               490|               490|               490|               490|               490|               491.0|               507.0|                 496.0|                   505.0|                     483.0|                       483.0|             246.0|  -400.0|       null|   null|               0.0|        null|         null|             3800|            1110.0|             126.0|            360.0|               1.0|         null|       null|\n",
      "|    75%|               735|               735|               735|               735|               735|               739.0|               748.0|                 744.0|                   749.0|                     739.0|                       734.0|             370.0|  -400.0|       null|   null|               1.0|        null|         null|             5516|            2365.0|             162.0|            360.0|               1.0|         null|       null|\n",
      "|    max|               980|               980|               980|               980|               980|Allez au boulot ! :)|Allez au boulot ! :)|            courage!!!|              courage!!!|               ù*ùfsfsf///|                       hello|       ù*ùfsfsf///|LP002990|ù*ùfsfsf///|  hello|                3+|Not Graduate|          Yes|            81000|           41667.0|             700.0|            480.0|               1.0|        Urban|          Y|\n",
      "+-------+------------------+------------------+------------------+------------------+------------------+--------------------+--------------------+----------------------+------------------------+--------------------------+----------------------------+------------------+--------+-----------+-------+------------------+------------+-------------+-----------------+------------------+------------------+-----------------+------------------+-------------+-----------+\n",
      "\n"
     ]
    }
   ],
   "source": [
    "def countNan(data):#cette fonction permet de compter les occurences NaN pour chaque colonne\n",
    "    data.summary().show()\n",
    "countNanligne(tab)"
   ]
  },
  {
   "cell_type": "code",
   "execution_count": 10,
   "id": "incomplete-comedy",
   "metadata": {},
   "outputs": [
    {
     "name": "stdout",
     "output_type": "stream",
     "text": [
      "[Row(_c0=971, Unnamed: 0=971, Unnamed: 0.1=971, Unnamed: 0.1.1=971, Unnamed: 0.1.1.1=971, Unnamed: 0.1.1.1.1='971', Unnamed: 0.1.1.1.1.1='971', Unnamed: 0.1.1.1.1.1.1='Allez au boulot ! :)', Unnamed: 0.1.1.1.1.1.1.1='971', Unnamed: 0.1.1.1.1.1.1.1.1='971', Unnamed: 0.1.1.1.1.1.1.1.1.1='971.0', index='Allez au boulot ! :)', Loan_ID='LP002952', Gender='Male', Married='No', Dependents='0', Education='Graduate', Self_Employed='No', ApplicantIncome=2500, CoapplicantIncome=0.0, LoanAmount=60.0, Loan_Amount_Term=360.0, Credit_History=1.0, Property_Area='Urban', Loan_Status=None), Row(_c0=972, Unnamed: 0=972, Unnamed: 0.1=972, Unnamed: 0.1.1=972, Unnamed: 0.1.1.1=972, Unnamed: 0.1.1.1.1='972', Unnamed: 0.1.1.1.1.1='972', Unnamed: 0.1.1.1.1.1.1='972', Unnamed: 0.1.1.1.1.1.1.1='972', Unnamed: 0.1.1.1.1.1.1.1.1='972', Unnamed: 0.1.1.1.1.1.1.1.1.1='972.0', index='358', Loan_ID='LP002954', Gender='Male', Married='Yes', Dependents='2', Education='Not Graduate', Self_Employed='No', ApplicantIncome=3132, CoapplicantIncome=0.0, LoanAmount=76.0, Loan_Amount_Term=360.0, Credit_History=None, Property_Area='Rural', Loan_Status=None), Row(_c0=973, Unnamed: 0=973, Unnamed: 0.1=973, Unnamed: 0.1.1=973, Unnamed: 0.1.1.1=973, Unnamed: 0.1.1.1.1='973', Unnamed: 0.1.1.1.1.1='973', Unnamed: 0.1.1.1.1.1.1='973', Unnamed: 0.1.1.1.1.1.1.1='973', Unnamed: 0.1.1.1.1.1.1.1.1='973', Unnamed: 0.1.1.1.1.1.1.1.1.1='973.0', index='ù*ùfsfsf///', Loan_ID='LP002962', Gender='Male', Married='hello', Dependents='0', Education='Graduate', Self_Employed='No', ApplicantIncome=4000, CoapplicantIncome=2667.0, LoanAmount=152.0, Loan_Amount_Term=360.0, Credit_History=1.0, Property_Area='Semiurban', Loan_Status=None), Row(_c0=974, Unnamed: 0=974, Unnamed: 0.1=974, Unnamed: 0.1.1=974, Unnamed: 0.1.1.1=974, Unnamed: 0.1.1.1.1='974', Unnamed: 0.1.1.1.1.1='Allez au boulot ! :)', Unnamed: 0.1.1.1.1.1.1='974', Unnamed: 0.1.1.1.1.1.1.1='974', Unnamed: 0.1.1.1.1.1.1.1.1='974', Unnamed: 0.1.1.1.1.1.1.1.1.1='974.0', index='360', Loan_ID='LP002965', Gender='Female', Married='Yes', Dependents='0', Education='Graduate', Self_Employed='No', ApplicantIncome=8550, CoapplicantIncome=4255.0, LoanAmount=96.0, Loan_Amount_Term=360.0, Credit_History=None, Property_Area='Urban', Loan_Status=None), Row(_c0=975, Unnamed: 0=975, Unnamed: 0.1=975, Unnamed: 0.1.1=975, Unnamed: 0.1.1.1=975, Unnamed: 0.1.1.1.1='975', Unnamed: 0.1.1.1.1.1='975', Unnamed: 0.1.1.1.1.1.1='975', Unnamed: 0.1.1.1.1.1.1.1='975', Unnamed: 0.1.1.1.1.1.1.1.1='ù*ùfsfsf///', Unnamed: 0.1.1.1.1.1.1.1.1.1='975.0', index='361', Loan_ID='LP002969', Gender='Male', Married='Yes', Dependents='1', Education='Graduate', Self_Employed='No', ApplicantIncome=2269, CoapplicantIncome=2167.0, LoanAmount=99.0, Loan_Amount_Term=360.0, Credit_History=1.0, Property_Area='Semiurban', Loan_Status=None), Row(_c0=976, Unnamed: 0=976, Unnamed: 0.1=976, Unnamed: 0.1.1=976, Unnamed: 0.1.1.1=976, Unnamed: 0.1.1.1.1='Allez au boulot ! :)', Unnamed: 0.1.1.1.1.1='976', Unnamed: 0.1.1.1.1.1.1='976', Unnamed: 0.1.1.1.1.1.1.1='976', Unnamed: 0.1.1.1.1.1.1.1.1='976', Unnamed: 0.1.1.1.1.1.1.1.1.1='976.0', index='362', Loan_ID='LP002971', Gender='Male', Married='Yes', Dependents='3+', Education='Not Graduate', Self_Employed='Yes', ApplicantIncome=4009, CoapplicantIncome=1777.0, LoanAmount=113.0, Loan_Amount_Term=360.0, Credit_History=1.0, Property_Area='Urban', Loan_Status=None), Row(_c0=977, Unnamed: 0=977, Unnamed: 0.1=977, Unnamed: 0.1.1=977, Unnamed: 0.1.1.1=977, Unnamed: 0.1.1.1.1='977', Unnamed: 0.1.1.1.1.1='977', Unnamed: 0.1.1.1.1.1.1='977', Unnamed: 0.1.1.1.1.1.1.1='977', Unnamed: 0.1.1.1.1.1.1.1.1='977', Unnamed: 0.1.1.1.1.1.1.1.1.1='977.0', index='363', Loan_ID='LP002975', Gender='Male', Married='Yes', Dependents='0', Education='Graduate', Self_Employed='No', ApplicantIncome=4158, CoapplicantIncome=709.0, LoanAmount=115.0, Loan_Amount_Term=360.0, Credit_History=1.0, Property_Area='Urban', Loan_Status=None), Row(_c0=978, Unnamed: 0=978, Unnamed: 0.1=978, Unnamed: 0.1.1=978, Unnamed: 0.1.1.1=978, Unnamed: 0.1.1.1.1='978', Unnamed: 0.1.1.1.1.1='978', Unnamed: 0.1.1.1.1.1.1='978', Unnamed: 0.1.1.1.1.1.1.1='978', Unnamed: 0.1.1.1.1.1.1.1.1='978', Unnamed: 0.1.1.1.1.1.1.1.1.1='978.0', index='364', Loan_ID='LP002980', Gender='Male', Married='No', Dependents='0', Education='Graduate', Self_Employed='No', ApplicantIncome=3250, CoapplicantIncome=1993.0, LoanAmount=126.0, Loan_Amount_Term=360.0, Credit_History=None, Property_Area='Semiurban', Loan_Status=None), Row(_c0=979, Unnamed: 0=979, Unnamed: 0.1=979, Unnamed: 0.1.1=979, Unnamed: 0.1.1.1=979, Unnamed: 0.1.1.1.1='979', Unnamed: 0.1.1.1.1.1='Allez au boulot ! :)', Unnamed: 0.1.1.1.1.1.1='979', Unnamed: 0.1.1.1.1.1.1.1='Allez au boulot ! :)', Unnamed: 0.1.1.1.1.1.1.1.1='979', Unnamed: 0.1.1.1.1.1.1.1.1.1=None, index='365', Loan_ID='LP002986', Gender='Male', Married='Yes', Dependents='0', Education='Graduate', Self_Employed='No', ApplicantIncome=5000, CoapplicantIncome=2393.0, LoanAmount=158.0, Loan_Amount_Term=360.0, Credit_History=1.0, Property_Area='Rural', Loan_Status=None), Row(_c0=980, Unnamed: 0=980, Unnamed: 0.1=980, Unnamed: 0.1.1=980, Unnamed: 0.1.1.1=980, Unnamed: 0.1.1.1.1='980', Unnamed: 0.1.1.1.1.1='980', Unnamed: 0.1.1.1.1.1.1='980', Unnamed: 0.1.1.1.1.1.1.1='Allez au boulot ! :)', Unnamed: 0.1.1.1.1.1.1.1.1='courage!!!', Unnamed: 0.1.1.1.1.1.1.1.1.1='980.0', index='366', Loan_ID='LP002989', Gender='Male', Married='No', Dependents='0', Education='Graduate', Self_Employed='Yes', ApplicantIncome=9200, CoapplicantIncome=0.0, LoanAmount=98.0, Loan_Amount_Term=180.0, Credit_History=1.0, Property_Area='Rural', Loan_Status=None)]\n"
     ]
    }
   ],
   "source": [
    "def affichelignebas(data, nombre):#cette fonction d'afficher avec personnalisation le nombre de ligne du bas du tableau\n",
    "    print(data.tail(nombre))\n",
    "affichelignebas(tab, 10)"
   ]
  },
  {
   "cell_type": "code",
   "execution_count": null,
   "id": "fluid-chambers",
   "metadata": {},
   "outputs": [],
   "source": []
  }
 ],
 "metadata": {
  "kernelspec": {
   "display_name": "Python 3",
   "language": "python",
   "name": "python3"
  },
  "language_info": {
   "codemirror_mode": {
    "name": "ipython",
    "version": 3
   },
   "file_extension": ".py",
   "mimetype": "text/x-python",
   "name": "python",
   "nbconvert_exporter": "python",
   "pygments_lexer": "ipython3",
   "version": "3.8.8"
  }
 },
 "nbformat": 4,
 "nbformat_minor": 5
}
